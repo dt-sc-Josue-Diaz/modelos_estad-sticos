{
 "cells": [
  {
   "cell_type": "markdown",
   "id": "e515651e-b5e1-417e-ac60-6b8cffa24b2c",
   "metadata": {},
   "source": [
    "# Modelos estádisticos\n",
    "- Componentes de un modelo.\n",
    "- Tipos de modelos.\n",
    "- Fases de construcción de un modelo.\n",
    "\n",
    "Diseñar modelos para una problematica con lleva el fin de estudiar una población, el diseño por parte de los investagadores que ponen sus hipotesis a una experimentación, que será refutada o respaldada por datos. Recoger información es parte fundamental de este proceso. El proceso con lleva  poder obeter una relación matemática que permita predecir o describir el problema planteado. "
   ]
  },
  {
   "cell_type": "markdown",
   "id": "c034e324-428e-4160-9c38-8fc10b56357d",
   "metadata": {},
   "source": [
    "## Componentes de un modelo\n",
    "###  Componente sistémica. \n",
    "Esta parte es conocida por plantear una relación matemática que describa el problema en base a un deseño experimental y objetivos a verificar. Esta relación matemática es determinista, en el modelo siempre es necesrio plantear la variable asociada al objetivo, que vamos a denotar por $Y$. Las variables relacionadas o por las cuales vamos a predecir $Y$ las denotaremos por $(X_1, X_2, \\cdots)$.\n",
    "\n",
    "Entonces en un diseño experimental tenemos una variable $Y$ dependiente de variables $(X_n)_{n \\geq 0}$. A $Y$ se le denomida *variable de respuesta o dependiente* mientras que a las $X_n$ les llamamos *variables explicativas, predictoras o covariables* si son continuas. En caso de que $X_i$ sea categorica es llamada *factor explicativo*.\n",
    "\n",
    "En general, hablamos de una dependencia,\n",
    "\n",
    "$$Y=f(X_1, \\dots, X_k),$$\n",
    "\n",
    "esto puede ser una desventaja, para ello antes planteamos la relación,\n",
    "\n",
    "$$\\hat{Y}=f(X_1, \\dots, X_k),$$\n",
    "\n",
    "Donde el comportamiento esperado de $\\hat{Y}$ sea lo mas cercano al  de $Y$. Para $\\varepsilon$ tal que\n",
    "\n",
    "$$Y=\\hat{Y}+\\varepsilon$$\n",
    "\n",
    "le conocemos como *parte aleatoria* del modelo. De esta manera estamos denotando la variabilidad de las observaciones de $X_i$.\n",
    "\n",
    "## Tipos de modelos\n",
    "\n",
    "La relación entre la variable de repuesta y las predictoras puede ser muy general y por tanto la parte aleatoria dificil de conocer. Es conveniente plantear modelos conocidos y estudiados. \n",
    "\n",
    "- Los modelos lineales\n",
    "- Modelos lineales generalizados. (Logísticos, Poisson, Log-lineales, de superviviencia)\n",
    "\n",
    "\n",
    "## Fases de un modelo.\n",
    "\n",
    "Plantemos las pautas de actuación.\n",
    " - Contexto del problema: Definir objetivos y las variables.\n",
    " - Diseño del experimento y obtener datos. \n",
    " - Procesamiento de la información. \n",
    " - Identificar patrones y estadistica descriptiva. \n",
    " - Proponer modelo. Distribición de datos. \n",
    " - Ajusto del modelo. Comparación y selección del mejor.\n",
    " - Validación del ajuste.\n",
    " - Evaluación de la capacidad predictiva. \n",
    " - Interpretar y concluir. \n",
    " \n",
    " \n",
    "Este proceso no es lineal y varias veces tendremos que regresar pasos atras hasta poder pasar al siguiente paso. \n",
    "\n",
    "### Representación de la información. \n",
    "\n",
    "- La información de la variable de respuesta debe estar en el ejer de las ordenadas. \n",
    "- El tipo de variable predictora tenermina el tipo de gráfico a usar. Quizas de recalcar que en ocaciones es aceptable representar un gráfico de cajas de manera horizontal. \n",
    "- Si nos vemos en la necesidad de incluir categoricas y numericas entonces debemos mostrar la relación de la variable predictora con las continuas en cada nivel categórico.\n",
    "\n"
   ]
  }
 ],
 "metadata": {
  "kernelspec": {
   "display_name": "R",
   "language": "R",
   "name": "ir"
  },
  "language_info": {
   "codemirror_mode": "r",
   "file_extension": ".r",
   "mimetype": "text/x-r-source",
   "name": "R",
   "pygments_lexer": "r",
   "version": "4.2.0"
  }
 },
 "nbformat": 4,
 "nbformat_minor": 5
}
