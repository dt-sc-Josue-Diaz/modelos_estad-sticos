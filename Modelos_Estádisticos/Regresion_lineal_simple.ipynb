{
 "cells": [
  {
   "cell_type": "markdown",
   "id": "5b8ea362-2247-4d72-b22f-43e3412f3c7c",
   "metadata": {},
   "source": [
    "# Regresión lineal simple\n",
    "Es el modelo mas sencillo por ahora, este modela la relación entre dos variables, $Y \\sim X$ de manera lineal. El modelos tiene postulados que deben satisfacerse para poder confiar en él, como la correlación entre variables.\n",
    "\n",
    "En este caso $Y$ posee una aleatoriedad mientras que $X$ no, solo informa las observaciones. "
   ]
  },
  {
   "cell_type": "markdown",
   "id": "9e9b2357-63fa-4ebd-8dc6-d8edf6bd6fe6",
   "metadata": {},
   "source": [
    "## Banco de datos\n",
    "Vamos a trabajar con unos ejemplos."
   ]
  },
  {
   "cell_type": "code",
   "execution_count": 2,
   "id": "0dd15257-3686-4ad7-8699-47e1a07d5092",
   "metadata": {},
   "outputs": [],
   "source": [
    "# librerias\n",
    "library(ggplot2)"
   ]
  },
  {
   "cell_type": "markdown",
   "id": "f70df91f-0f58-498f-8ccb-65d2d001dcda",
   "metadata": {},
   "source": [
    "**Datos de Corrosión.** Treinta aleaciones del tipo 90/10 Cu-Ni, cada una con un contenido específico de hierro son estudiadas bajo un proceso de corrosión. Tras un período de 60 días se obtiene la pérdida de peso (en miligramos al cuadrado por decímetro y día) de cada una de las aleaciones debido al proceso de corrosión. El objetivo es estudiar el nivel de corrosión en función del contenido de hierro"
   ]
  },
  {
   "cell_type": "code",
   "execution_count": 3,
   "id": "c274bca7-5a42-46da-8db0-ea20849a3c1a",
   "metadata": {},
   "outputs": [
    {
     "data": {
      "image/png": "[encoded data removed]",
      "text/plain": [
       "plot without title"
      ]
     },
     "metadata": {
      "image/png": {
       "height": 420,
       "width": 420
      }
     },
     "output_type": "display_data"
    }
   ],
   "source": [
    "hierro <- c(0.01, 0.48, 0.71, 0.95, 1.19, 0.01, 0.48, 1.44, 0.71, \n",
    "            1.96, 0.01, 1.44, 1.96)\n",
    "peso <- c(127.6, 124, 110.8, 103.9, 101.5, 130.1, 122, 92.3, 113.1, \n",
    "          83.7, 128, 91.4, 86.2)\n",
    "corrosion <- data.frame(hierro,peso)\n",
    "ggplot(corrosion, aes(x = hierro, y = peso)) +\n",
    "  geom_point() +\n",
    "  labs(x = \"Contenido en hierro\", y = \"Pérdida de peso\") "
   ]
  },
  {
   "cell_type": "markdown",
   "id": "78c028f0-5bd9-442f-b6c1-77460beac3c8",
   "metadata": {},
   "source": [
    "**Datos de Papel**. La relación existente entre la concentración de madera contenida en la pulpa a partir de la que se elabora papel (madera) y la resistencia (tension, en términos de tensión que soporta) del papel resultante. El objetivo del análisis es describir la tendencia observada."
   ]
  },
  {
   "cell_type": "code",
   "execution_count": 4,
   "id": "729534db-8a99-4446-9702-348699f80524",
   "metadata": {},
   "outputs": [
    {
     "data": {
      "image/png": "[encoded data removed]",
      "text/plain": [
       "plot without title"
      ]
     },
     "metadata": {
      "image/png": {
       "height": 420,
       "width": 420
      }
     },
     "output_type": "display_data"
    }
   ],
   "source": [
    "madera <- c(1, 1.5, 2, 3, 4, 4.5, 5, 5.5, 6, 6.5, 7, 8, 9, 10, 11, \n",
    "            12, 13, 14, 15)\n",
    "tension <- c(6.3, 11.1, 20.0, 24, 26.1, 30, 33.8, 34, 38.1, 39.9, 42,\n",
    "             46.1, 53.1, 52, 52.5, 48, 42.8, 27.8, 21.9)\n",
    "papel <- data.frame(madera, tension)\n",
    "ggplot(papel, aes(x = madera, y = tension)) +\n",
    "  geom_point() +\n",
    "  labs(x = \"Concentración de madera\", y = \"Resistencia del papel\") "
   ]
  },
  {
   "cell_type": "markdown",
   "id": "0d93b3d1-6ec9-41a2-af57-5d53dfb2b04d",
   "metadata": {},
   "source": [
    "**Datos de Viscosidad.** Se ha realizado un experimento para tratar de conocer la viscosidad de cierto compuesto en función de la cantidad de un tipo der aceite que se usa en su fabricación. Se asume una relación de tipo lineal entre la viscosidad y la cantidad de aceite utilizada."
   ]
  },
  {
   "cell_type": "code",
   "execution_count": 5,
   "id": "ec8b5024-ac3a-4e9d-a699-165abd653c1a",
   "metadata": {},
   "outputs": [
    {
     "data": {
      "image/png": "[encoded data removed]",
      "text/plain": [
       "plot without title"
      ]
     },
     "metadata": {
      "image/png": {
       "height": 420,
       "width": 420
      }
     },
     "output_type": "display_data"
    }
   ],
   "source": [
    "aceite <- c(0, 12, 24, 36, 48, 60, 0, 12, 24, 36, 48, 60, 0, 12, 24,\n",
    "            36, 48, 60, 12, 24, 36, 48, 60)\n",
    "viscosidad <- c(26, 38, 50, 76, 108, 157, 17, 26, 37, 53, 83, 124, 13,\n",
    "                20, 27, 37, 57, 87, 15, 22, 27, 41, 63)\n",
    "aceites<-data.frame(aceite, viscosidad)\n",
    "ggplot(aceites, aes(x = aceite, y = viscosidad)) +\n",
    "  geom_point() +\n",
    "  labs(x = \"Cantidad de aceite\", y = \"Viscosidad\") "
   ]
  },
  {
   "cell_type": "markdown",
   "id": "fc51df79-a5c6-49f5-a7df-c9258013b17b",
   "metadata": {},
   "source": [
    "## El modelo de regresion lineal simple\n",
    "El modelo de una variable de respuesta sobre una predictora  es prediciendo la respuesta media del valor observado $X=x$ con la recta de regresión,\n",
    "\n",
    "$$E(Y|X=x)=\\beta_0+\\beta_1 x,$$\n",
    "\n",
    "Considerando la parte aleatoria como un error esperado, \n",
    "\n",
    "$$Y=\\beta_0+\\beta_1 x+\\varepsilon,$$\n",
    "\n",
    "- Donde $\\beta_1$ es la pendiente de la recta de regresión y $\\beta_0$ es la ordenada al origen. \n",
    "- $\\beta_1$ refleja  cuanto varia la respuesta esperada $E(Y).$\n",
    "\n",
    "Cosideraciones sobre el modelo. Dada una sucesión de valores observados, $(x_i,y_i)_{i=1}^n$, el modelo nos indica que,\n",
    "\n",
    "$$y_i = \\beta_0+\\beta_1 x_i+\\varepsilon_i,$$\n",
    "los $\\varepsilon_i$ se consideran incorrelacionados de media cero y varianza constante. Detallando, \n",
    "\n",
    "- $Corr(\\varepsilon_i,\\varepsilon_j)=0$ para $i\\neq j,$ de esta manera la variable de repuesta $y$, e $y_i$ estan incorrelaacionadas entre si. Los valores de una no afectan las de las otras. \n",
    "- $E(\\varepsilon_i)=0$ para toda $i.$ De esta menera el modelo solo depende, en valor esperado, de $\\beta_0$ y $\\beta_1.$ \n",
    "- $Var(\\varepsilon)=\\sigma^2$ es constante, por los que las observaciones $y_i$ sonde la misma población, y la variabilidad respecto a su media está dada por $\\sigma^2.$\n",
    "\n",
    "## Estimación del modelo. \n",
    "Nos referimos a calcular los coeficientes $\\beta_0$ y $\\beta_1$ en la recta de regresión.\n",
    "\n",
    "- Si solo queremos determinar la recta, basta considerar el cirterio de los *minimos cuadrados*. \n",
    "- Si queremos hacer inferencias debemos de hablar del *maximo verosimil*.\n",
    "\n",
    "### Minimos cuadrados\n",
    "Tambien conocido por minimizacion del error cuadrático medio. \n",
    "\n"
   ]
  },
  {
   "cell_type": "markdown",
   "id": "0e8290ea-1099-4c87-a895-913380100783",
   "metadata": {},
   "source": [
    "### Estimación con R"
   ]
  },
  {
   "cell_type": "markdown",
   "id": "951d4c9d-a4c4-4e17-981a-f0e6d3ca732f",
   "metadata": {},
   "source": [
    "Para el ajuste máximo verosimil utilizamos la función `lm`, la expresión básica es,\n",
    "\n",
    "`model <- lm (y ~ x, data = \"datos\")`\n",
    "\n",
    "`y` es la variable de repuesta y `x` la predictora. `\"datos\"` el set de datos. \n",
    "\n",
    "- `tidy()` de `tidymodels` nos da el modelo estimado, los erroes de la estimación y las soluciones sobre cada parámetro del modelo.\n",
    "- `glm_coef()` de `pubh` nos da las estimaciones del modelo, los intervalos de confianza de 95% de cada parámetro y el p-valor de cada unos de los parámetros. \n",
    "-`summay` proporciona el resumen del modelo y bondad de ajuste. "
   ]
  },
  {
   "cell_type": "markdown",
   "id": "5d578602-c78e-44f5-8df6-45f6f0b56da3",
   "metadata": {},
   "source": [
    "### Ejemplos\n"
   ]
  },
  {
   "cell_type": "code",
   "execution_count": 13,
   "id": "cba91974-2d45-4a94-8ab3-263b7f23b793",
   "metadata": {},
   "outputs": [
    {
     "name": "stderr",
     "output_type": "stream",
     "text": [
      "Warning message:\n",
      "\"package 'sjPlot' was built under R version 4.1.3\"\n",
      "Registered S3 method overwritten by 'parameters':\n",
      "  method                         from      \n",
      "  format.parameters_distribution datawizard\n",
      "\n",
      "\n",
      "Attaching package: 'sjPlot'\n",
      "\n",
      "\n",
      "The following object is masked from 'package:huxtable':\n",
      "\n",
      "    font_size\n",
      "\n",
      "\n"
     ]
    }
   ],
   "source": [
    "#Librerias\n",
    "library(tidymodels)\n",
    "library(pubh)\n",
    "library(sjPlot)"
   ]
  },
  {
   "cell_type": "code",
   "execution_count": 10,
   "id": "e9a44a16-a6ae-4073-9f93-46d73e38e902",
   "metadata": {},
   "outputs": [
    {
     "data": {
      "text/html": [
       "<table class=\"dataframe\">\n",
       "<caption>A tibble: 2 × 5</caption>\n",
       "<thead>\n",
       "\t<tr><th scope=col>term</th><th scope=col>estimate</th><th scope=col>std.error</th><th scope=col>statistic</th><th scope=col>p.value</th></tr>\n",
       "\t<tr><th scope=col>&lt;chr&gt;</th><th scope=col>&lt;dbl&gt;</th><th scope=col>&lt;dbl&gt;</th><th scope=col>&lt;dbl&gt;</th><th scope=col>&lt;dbl&gt;</th></tr>\n",
       "</thead>\n",
       "<tbody>\n",
       "\t<tr><td>(Intercept)</td><td>129.78660</td><td>1.402737</td><td> 92.52385</td><td>2.933761e-17</td></tr>\n",
       "\t<tr><td>hierro     </td><td>-24.01989</td><td>1.279767</td><td>-18.76896</td><td>1.055355e-09</td></tr>\n",
       "</tbody>\n",
       "</table>\n"
      ],
      "text/latex": [
       "A tibble: 2 × 5\n",
       "\\begin{tabular}{lllll}\n",
       " term & estimate & std.error & statistic & p.value\\\\\n",
       " <chr> & <dbl> & <dbl> & <dbl> & <dbl>\\\\\n",
       "\\hline\n",
       "\t (Intercept) & 129.78660 & 1.402737 &  92.52385 & 2.933761e-17\\\\\n",
       "\t hierro      & -24.01989 & 1.279767 & -18.76896 & 1.055355e-09\\\\\n",
       "\\end{tabular}\n"
      ],
      "text/markdown": [
       "\n",
       "A tibble: 2 × 5\n",
       "\n",
       "| term &lt;chr&gt; | estimate &lt;dbl&gt; | std.error &lt;dbl&gt; | statistic &lt;dbl&gt; | p.value &lt;dbl&gt; |\n",
       "|---|---|---|---|---|\n",
       "| (Intercept) | 129.78660 | 1.402737 |  92.52385 | 2.933761e-17 |\n",
       "| hierro      | -24.01989 | 1.279767 | -18.76896 | 1.055355e-09 |\n",
       "\n"
      ],
      "text/plain": [
       "  term        estimate  std.error statistic p.value     \n",
       "1 (Intercept) 129.78660 1.402737   92.52385 2.933761e-17\n",
       "2 hierro      -24.01989 1.279767  -18.76896 1.055355e-09"
      ]
     },
     "metadata": {},
     "output_type": "display_data"
    }
   ],
   "source": [
    "# Ajuste del modelo\n",
    "fit <- lm(peso ~ hierro, data = corrosion)\n",
    "# Solución con tidy\n",
    "tidy(fit)"
   ]
  },
  {
   "cell_type": "code",
   "execution_count": 11,
   "id": "2de9efaf-257a-4e66-9e6e-54c54d2eccd7",
   "metadata": {},
   "outputs": [
    {
     "data": {
      "text/html": [
       "<table class=\"dataframe\">\n",
       "<caption>A data.frame: 2 × 3</caption>\n",
       "<thead>\n",
       "\t<tr><th scope=col>Parameter</th><th scope=col>Coefficient</th><th scope=col>Pr(&gt;|t|)</th></tr>\n",
       "\t<tr><th scope=col>&lt;chr&gt;</th><th scope=col>&lt;chr&gt;</th><th scope=col>&lt;chr&gt;</th></tr>\n",
       "</thead>\n",
       "<tbody>\n",
       "\t<tr><td>(Intercept)</td><td>129.79 (126.7, 132.87)</td><td>&lt; 0.001</td></tr>\n",
       "\t<tr><td><span style=white-space:pre-wrap>hierro     </span></td><td>-24.02 (-26.84, -21.2)</td><td>&lt; 0.001</td></tr>\n",
       "</tbody>\n",
       "</table>\n"
      ],
      "text/latex": [
       "A data.frame: 2 × 3\n",
       "\\begin{tabular}{lll}\n",
       " Parameter & Coefficient & Pr(>\\textbar{}t\\textbar{})\\\\\n",
       " <chr> & <chr> & <chr>\\\\\n",
       "\\hline\n",
       "\t (Intercept) & 129.79 (126.7, 132.87) & < 0.001\\\\\n",
       "\t hierro      & -24.02 (-26.84, -21.2) & < 0.001\\\\\n",
       "\\end{tabular}\n"
      ],
      "text/markdown": [
       "\n",
       "A data.frame: 2 × 3\n",
       "\n",
       "| Parameter &lt;chr&gt; | Coefficient &lt;chr&gt; | Pr(&gt;|t|) &lt;chr&gt; |\n",
       "|---|---|---|\n",
       "| (Intercept) | 129.79 (126.7, 132.87) | &lt; 0.001 |\n",
       "| hierro      | -24.02 (-26.84, -21.2) | &lt; 0.001 |\n",
       "\n"
      ],
      "text/plain": [
       "  Parameter   Coefficient            Pr(>|t|)\n",
       "1 (Intercept) 129.79 (126.7, 132.87) < 0.001 \n",
       "2 hierro      -24.02 (-26.84, -21.2) < 0.001 "
      ]
     },
     "metadata": {},
     "output_type": "display_data"
    }
   ],
   "source": [
    "# Solución con glm_coef\n",
    "glm_coef(fit)"
   ]
  },
  {
   "cell_type": "code",
   "execution_count": 14,
   "id": "fd0fd959-f8fb-4259-a89d-0f1e799e83fa",
   "metadata": {},
   "outputs": [
    {
     "data": {
      "image/png": "[encoded data removed]",
      "text/plain": [
       "plot without title"
      ]
     },
     "metadata": {
      "image/png": {
       "height": 420,
       "width": 420
      }
     },
     "output_type": "display_data"
    }
   ],
   "source": [
    "# Gráfico del ajuste\n",
    "plot_model(fit,\"pred\", terms = ~hierro, \n",
    "                ci.lvl = NA, \n",
    "                show.data = TRUE, \n",
    "                axis.title = c(\"Contenido en hierro\", \"Peso\"),\n",
    "                title = \" \")"
   ]
  }
 ],
 "metadata": {
  "kernelspec": {
   "display_name": "R",
   "language": "R",
   "name": "ir"
  },
  "language_info": {
   "codemirror_mode": "r",
   "file_extension": ".r",
   "mimetype": "text/x-r-source",
   "name": "R",
   "pygments_lexer": "r",
   "version": "4.2.0"
  }
 },
 "nbformat": 4,
 "nbformat_minor": 5
}
